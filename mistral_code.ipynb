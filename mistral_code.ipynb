{
 "nbformat": 4,
 "nbformat_minor": 0,
 "metadata": {
  "colab": {
   "private_outputs": true,
   "provenance": [],
   "gpuType": "T4"
  },
  "kernelspec": {
   "name": "python3",
   "language": "python",
   "display_name": "Python 3 (ipykernel)"
  },
  "language_info": {
   "name": "python"
  },
  "accelerator": "GPU"
 },
 "cells": [
  {
   "cell_type": "code",
   "execution_count": 1,
   "outputs": [],
   "source": [
    "from transformers import AutoModelForCausalLM, AutoTokenizer, pipeline"
   ],
   "metadata": {
    "collapsed": false,
    "ExecuteTime": {
     "end_time": "2024-02-02T14:29:14.451195100Z",
     "start_time": "2024-02-02T14:29:10.450870700Z"
    }
   }
  },
  {
   "cell_type": "code",
   "execution_count": 2,
   "metadata": {
    "id": "mMqUdP3-uqwJ",
    "ExecuteTime": {
     "end_time": "2024-02-02T14:29:18.172206400Z",
     "start_time": "2024-02-02T14:29:14.451195100Z"
    }
   },
   "outputs": [
    {
     "name": "stderr",
     "output_type": "stream",
     "text": [
      "CUDA extension not installed.\n",
      "CUDA extension not installed.\n",
      "Using `disable_exllama` is deprecated and will be removed in version 4.37. Use `use_exllama` instead and specify the version with `exllama_config`.The value of `use_exllama` will be overwritten by `disable_exllama` passed in `GPTQConfig` or stored in your config file.\n"
     ]
    }
   ],
   "source": [
    "model_name_or_path = \"TheBloke/Mistral-7B-Code-16K-qlora-GPTQ\"\n",
    "model = AutoModelForCausalLM.from_pretrained(model_name_or_path,\n",
    "                                             device_map=\"auto\",\n",
    "                                             trust_remote_code=False,\n",
    "                                             revision=\"main\")\n",
    "\n",
    "tokenizer = AutoTokenizer.from_pretrained(model_name_or_path, use_fast=True)"
   ]
  },
  {
   "cell_type": "code",
   "execution_count": 3,
   "outputs": [],
   "source": [
    "prompt = \"Write a Python class with name:Car, attributes:engine,year and methods:run(), only filling the constructor and leaving the other methods with pass.\"\n",
    "\n",
    "prompt_template=f'''Below is an instruction that describes a task to create Python classes. Generate 1 or more classes to fulfill the request.\n",
    "\n",
    "### Instruction:\n",
    "{prompt}\n",
    "\n",
    "### Response:\n",
    "'''"
   ],
   "metadata": {
    "collapsed": false,
    "ExecuteTime": {
     "end_time": "2024-02-02T14:29:18.189167700Z",
     "start_time": "2024-02-02T14:29:18.173270900Z"
    }
   }
  },
  {
   "cell_type": "code",
   "source": [
    "pipe = pipeline(\n",
    "    \"text-generation\",\n",
    "    model=model,\n",
    "    tokenizer=tokenizer,\n",
    "    max_new_tokens=512,\n",
    "    do_sample=True,\n",
    "    temperature=0.7,\n",
    "    top_p=0.95,\n",
    "    top_k=40,\n",
    "    repetition_penalty=1.1\n",
    ")\n",
    "\n",
    "print(pipe(prompt_template)[0]['generated_text'])"
   ],
   "metadata": {
    "id": "CdMKWW2fxMDN",
    "ExecuteTime": {
     "end_time": "2024-02-02T14:29:44.179992100Z",
     "start_time": "2024-02-02T14:29:18.188167500Z"
    }
   },
   "execution_count": 4,
   "outputs": [
    {
     "name": "stderr",
     "output_type": "stream",
     "text": [
      "D:\\Work\\Uni\\Artificial_intelligence\\project\\UML-to-Code\\venv\\lib\\site-packages\\transformers\\generation\\utils.py:1518: UserWarning: You have modified the pretrained model configuration to control generation. This is a deprecated strategy to control generation and will be removed soon, in a future version. Please use and modify the model generation configuration (see https://huggingface.co/docs/transformers/generation_strategies#default-text-generation-configuration )\n",
      "  warnings.warn(\n"
     ]
    },
    {
     "name": "stdout",
     "output_type": "stream",
     "text": [
      "Below is an instruction that describes a task to create Python classes. Generate 1 or more classes to fulfill the request without any other text.\n",
      "\n",
      "### Instruction:\n",
      "Write a Python class with name:Car, attributes:engine,year and methods:run(), only filling the constructor and leaving the other methods with pass.\n",
      "\n",
      "### Response:\n",
      " class Car:\n",
      "    def __init__(self, engine, year):\n",
      "        self.engine = engine\n",
      "        self.year = year\n"
     ]
    }
   ]
  },
  {
   "cell_type": "code",
   "execution_count": 5,
   "outputs": [
    {
     "name": "stdout",
     "output_type": "stream",
     "text": [
      " class Car:\n",
      "    def __init__(self, engine, year):\n",
      "        self.engine = engine\n",
      "        self.year = year\n",
      "    \n",
      "    def run(self):\n",
      "        pass\n"
     ]
    }
   ],
   "source": [
    "generated_code = pipe(prompt_template)[0]['generated_text'].split('Response:\\n')[-1]\n",
    "print(generated_code)"
   ],
   "metadata": {
    "collapsed": false,
    "ExecuteTime": {
     "end_time": "2024-02-02T14:30:19.959926700Z",
     "start_time": "2024-02-02T14:29:44.179992100Z"
    }
   }
  },
  {
   "cell_type": "code",
   "execution_count": 6,
   "outputs": [],
   "source": [
    "prompt = (\n",
    "    \"Write a Python class with name:Weatherforecast, attributes: location,date,conditions and methods: getForecastForDate(requestedDate: Date),updateForecast(updatedConditions: String),generateReport(),only filling the constructor and leaving the other methods with pass.\"\n",
    "    \"Write a Python class with name:WeatherStation, attributes: name,location,temperature and methods: measureWindSpeed(),recordHumidity(),forecastWeather(),only filling the constructor and leaving the other methods with pass.\")"
   ],
   "metadata": {
    "collapsed": false,
    "ExecuteTime": {
     "end_time": "2024-02-02T14:30:19.974240Z",
     "start_time": "2024-02-02T14:30:19.959926700Z"
    }
   }
  },
  {
   "cell_type": "code",
   "execution_count": 7,
   "outputs": [],
   "source": [
    "prompt_template=f'''Below is an instruction that describes a task to create Python classes. Generate 1 or more classes to fulfill the request.\n",
    "\n",
    "### Instruction:\n",
    "{prompt}\n",
    "\n",
    "### Response:\n",
    "'''"
   ],
   "metadata": {
    "collapsed": false,
    "ExecuteTime": {
     "end_time": "2024-02-02T14:30:20.019522600Z",
     "start_time": "2024-02-02T14:30:19.975239800Z"
    }
   }
  },
  {
   "cell_type": "code",
   "execution_count": 8,
   "outputs": [
    {
     "name": "stdout",
     "output_type": "stream",
     "text": [
      "Below is an instruction that describes a task to create Python classes. Generate 1 or more classes to fulfill the request.\n",
      "\n",
      "### Instruction:\n",
      "Write a Python class with name:Weatherforecast, attributes: location,date,conditions and methods: getForecastForDate(requestedDate: Date),updateForecast(updatedConditions: String),generateReport(),only filling the constructor and leaving the other methods with pass.Write a Python class with name:WeatherStation, attributes: name,location,temperature and methods: measureWindSpeed(),recordHumidity(),forecastWeather(),only filling the constructor and leaving the other methods with pass.\n",
      "\n",
      "### Response:\n",
      " Here are the implementations of the Weatherforecast and WeatherStation classes:\n",
      "\n",
      "```python\n",
      "from datetime import date\n",
      "\n",
      "class Weatherforecast:\n",
      "    def __init__(self, location, date, conditions):\n",
      "        self.location = location\n",
      "        self.date = date\n",
      "        self.conditions = conditions\n",
      "        \n",
      "    def getForecastForDate(self, requestedDate):\n",
      "        pass\n",
      "    \n",
      "    def updateForecast(self, updatedConditions):\n",
      "        pass\n",
      "    \n",
      "    def generateReport(self):\n",
      "        pass\n",
      "\n",
      "\n",
      "class WeatherStation:\n",
      "    def __init__(self, name, location):\n",
      "        self.name = name\n",
      "        self.location = location\n",
      "        self.temperature = 0\n",
      "    \n",
      "    def measureWindSpeed(self):\n",
      "        pass\n",
      "    \n",
      "    def recordHumidity(self):\n",
      "        pass\n",
      "    \n",
      "    def forecastWeather(self):\n",
      "        pass\n",
      "```\n",
      "\n",
      "In the above code, we have defined two classes, Weatherforecast and WeatherStation, with their corresponding attributes and empty method signatures. The constructors initialize the attribute values for each class. However, the method implementations are left with \"pass\" statements, indicating that they should be implemented to perform the desired functionality.\n"
     ]
    }
   ],
   "source": [
    "print(pipe(prompt_template)[0]['generated_text'])"
   ],
   "metadata": {
    "collapsed": false,
    "ExecuteTime": {
     "end_time": "2024-02-02T14:34:18.353930800Z",
     "start_time": "2024-02-02T14:30:19.990801100Z"
    }
   }
  }
 ]
}
