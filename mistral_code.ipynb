{
 "nbformat": 4,
 "nbformat_minor": 0,
 "metadata": {
  "colab": {
   "private_outputs": true,
   "provenance": [],
   "gpuType": "T4"
  },
  "kernelspec": {
   "name": "python3",
   "language": "python",
   "display_name": "Python 3 (ipykernel)"
  },
  "language_info": {
   "name": "python"
  },
  "accelerator": "GPU"
 },
 "cells": [
  {
   "cell_type": "code",
   "execution_count": 1,
   "outputs": [],
   "source": [
    "from transformers import AutoModelForCausalLM, AutoTokenizer, pipeline"
   ],
   "metadata": {
    "collapsed": false,
    "ExecuteTime": {
     "end_time": "2024-02-02T07:19:16.833607500Z",
     "start_time": "2024-02-02T07:19:14.565767400Z"
    }
   }
  },
  {
   "cell_type": "code",
   "execution_count": 2,
   "metadata": {
    "id": "mMqUdP3-uqwJ",
    "ExecuteTime": {
     "end_time": "2024-02-02T07:19:20.823868600Z",
     "start_time": "2024-02-02T07:19:16.834611200Z"
    }
   },
   "outputs": [
    {
     "name": "stderr",
     "output_type": "stream",
     "text": [
      "CUDA extension not installed.\n",
      "CUDA extension not installed.\n",
      "Using `disable_exllama` is deprecated and will be removed in version 4.37. Use `use_exllama` instead and specify the version with `exllama_config`.The value of `use_exllama` will be overwritten by `disable_exllama` passed in `GPTQConfig` or stored in your config file.\n"
     ]
    }
   ],
   "source": [
    "model_name_or_path = \"TheBloke/Mistral-7B-Code-16K-qlora-GPTQ\"\n",
    "model = AutoModelForCausalLM.from_pretrained(model_name_or_path,\n",
    "                                             device_map=\"auto\",\n",
    "                                             trust_remote_code=False,\n",
    "                                             revision=\"main\")\n",
    "\n",
    "tokenizer = AutoTokenizer.from_pretrained(model_name_or_path, use_fast=True)"
   ]
  },
  {
   "cell_type": "code",
   "execution_count": 3,
   "outputs": [],
   "source": [
    "prompt = \"Write a Python class with name:Car, attributes:engine,year and methods:run(), only filling the constructor and leaving the other methods with pass.\"\n",
    "\n",
    "prompt_template=f'''Below is an instruction that describes a task. Write a response that appropriately completes the request.\n",
    "\n",
    "### Instruction:\n",
    "{prompt}\n",
    "\n",
    "### Response:\n",
    "'''"
   ],
   "metadata": {
    "collapsed": false,
    "ExecuteTime": {
     "end_time": "2024-02-02T07:19:20.839885300Z",
     "start_time": "2024-02-02T07:19:20.824869900Z"
    }
   }
  },
  {
   "cell_type": "code",
   "source": [
    "pipe = pipeline(\n",
    "    \"text-generation\",\n",
    "    model=model,\n",
    "    tokenizer=tokenizer,\n",
    "    max_new_tokens=512,\n",
    "    do_sample=True,\n",
    "    temperature=0.7,\n",
    "    top_p=0.95,\n",
    "    top_k=40,\n",
    "    repetition_penalty=1.1\n",
    ")\n",
    "\n",
    "print(pipe(prompt_template)[0]['generated_text'])"
   ],
   "metadata": {
    "id": "CdMKWW2fxMDN",
    "ExecuteTime": {
     "end_time": "2024-02-02T07:19:57.350553700Z",
     "start_time": "2024-02-02T07:19:20.840891800Z"
    }
   },
   "execution_count": 4,
   "outputs": [
    {
     "name": "stderr",
     "output_type": "stream",
     "text": [
      "D:\\Work\\Uni\\Artificial_intelligence\\project\\UML-to-Code\\venv\\lib\\site-packages\\transformers\\generation\\utils.py:1518: UserWarning: You have modified the pretrained model configuration to control generation. This is a deprecated strategy to control generation and will be removed soon, in a future version. Please use and modify the model generation configuration (see https://huggingface.co/docs/transformers/generation_strategies#default-text-generation-configuration )\n",
      "  warnings.warn(\n"
     ]
    },
    {
     "name": "stdout",
     "output_type": "stream",
     "text": [
      "Below is an instruction that describes a task. Write a response that appropriately completes the request.\n",
      "\n",
      "### Instruction:\n",
      "Write a Python class with name:Car, attributes:engine,year and methods:run(), only filling the constructor and leaving the other methods with pass.\n",
      "\n",
      "### Response:\n",
      " class Car:\n",
      "    def __init__(self, engine, year):\n",
      "        self.engine = engine\n",
      "        self.year = year\n",
      "    \n",
      "    def run(self):\n",
      "        pass\n"
     ]
    }
   ]
  },
  {
   "cell_type": "code",
   "execution_count": 5,
   "outputs": [
    {
     "name": "stdout",
     "output_type": "stream",
     "text": [
      " class Car(object):\n",
      "    def __init__(self, engine, year):\n",
      "        self.engine = engine\n",
      "        self.year = year\n",
      "    \n",
      "    def run(self):\n",
      "        pass\n"
     ]
    }
   ],
   "source": [
    "generated_code = pipe(prompt_template)[0]['generated_text'].split('Response:\\n')[-1]\n",
    "print(generated_code)"
   ],
   "metadata": {
    "collapsed": false,
    "ExecuteTime": {
     "end_time": "2024-02-02T07:20:35.722154500Z",
     "start_time": "2024-02-02T07:19:57.352552800Z"
    }
   }
  }
 ]
}
