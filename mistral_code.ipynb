{
 "nbformat": 4,
 "nbformat_minor": 0,
 "metadata": {
  "colab": {
   "private_outputs": true,
   "provenance": [],
   "gpuType": "T4"
  },
  "kernelspec": {
   "name": "python3",
   "language": "python",
   "display_name": "Python 3 (ipykernel)"
  },
  "language_info": {
   "name": "python"
  },
  "accelerator": "GPU"
 },
 "cells": [
  {
   "cell_type": "code",
   "execution_count": 1,
   "outputs": [],
   "source": [
    "from transformers import AutoModelForCausalLM, AutoTokenizer, pipeline"
   ],
   "metadata": {
    "collapsed": false,
    "ExecuteTime": {
     "end_time": "2024-02-02T09:50:11.458104500Z",
     "start_time": "2024-02-02T09:50:08.848249900Z"
    }
   }
  },
  {
   "cell_type": "code",
   "execution_count": 2,
   "metadata": {
    "id": "mMqUdP3-uqwJ",
    "ExecuteTime": {
     "end_time": "2024-02-02T09:50:20.113963800Z",
     "start_time": "2024-02-02T09:50:11.457102900Z"
    }
   },
   "outputs": [
    {
     "name": "stderr",
     "output_type": "stream",
     "text": [
      "CUDA extension not installed.\n",
      "CUDA extension not installed.\n",
      "Using `disable_exllama` is deprecated and will be removed in version 4.37. Use `use_exllama` instead and specify the version with `exllama_config`.The value of `use_exllama` will be overwritten by `disable_exllama` passed in `GPTQConfig` or stored in your config file.\n"
     ]
    }
   ],
   "source": [
    "model_name_or_path = \"TheBloke/Mistral-7B-Code-16K-qlora-GPTQ\"\n",
    "model = AutoModelForCausalLM.from_pretrained(model_name_or_path,\n",
    "                                             device_map=\"auto\",\n",
    "                                             trust_remote_code=False,\n",
    "                                             revision=\"main\")\n",
    "\n",
    "tokenizer = AutoTokenizer.from_pretrained(model_name_or_path, use_fast=True)"
   ]
  },
  {
   "cell_type": "code",
   "execution_count": 3,
   "outputs": [],
   "source": [
    "prompt = \"Write a Python class with name:Car, attributes:engine,year and methods:run(), only filling the constructor and leaving the other methods with pass.\"\n",
    "\n",
    "prompt_template=f'''Below is an instruction that describes a task to create Python classes. Generate 1 or more classes to fulfill the request.\n",
    "\n",
    "### Instruction:\n",
    "{prompt}\n",
    "\n",
    "### Response:\n",
    "'''"
   ],
   "metadata": {
    "collapsed": false,
    "ExecuteTime": {
     "end_time": "2024-02-02T09:50:20.126970300Z",
     "start_time": "2024-02-02T09:50:20.113963800Z"
    }
   }
  },
  {
   "cell_type": "code",
   "source": [
    "pipe = pipeline(\n",
    "    \"text-generation\",\n",
    "    model=model,\n",
    "    tokenizer=tokenizer,\n",
    "    max_new_tokens=512,\n",
    "    do_sample=True,\n",
    "    temperature=0.7,\n",
    "    top_p=0.95,\n",
    "    top_k=40,\n",
    "    repetition_penalty=1.1\n",
    ")\n",
    "\n",
    "print(pipe(prompt_template)[0]['generated_text'])"
   ],
   "metadata": {
    "id": "CdMKWW2fxMDN",
    "ExecuteTime": {
     "end_time": "2024-02-02T09:50:57.769980Z",
     "start_time": "2024-02-02T09:50:20.127963300Z"
    }
   },
   "execution_count": 4,
   "outputs": [
    {
     "name": "stderr",
     "output_type": "stream",
     "text": [
      "D:\\Work\\Uni\\Artificial_intelligence\\project\\UML-to-Code\\venv\\lib\\site-packages\\transformers\\generation\\utils.py:1518: UserWarning: You have modified the pretrained model configuration to control generation. This is a deprecated strategy to control generation and will be removed soon, in a future version. Please use and modify the model generation configuration (see https://huggingface.co/docs/transformers/generation_strategies#default-text-generation-configuration )\n",
      "  warnings.warn(\n"
     ]
    },
    {
     "name": "stdout",
     "output_type": "stream",
     "text": [
      "Below is an instruction that describes a task to create Python classes. Generate 1 or more classes to fulfill the request.\n",
      "\n",
      "### Instruction:\n",
      "Write a Python class with name:Car, attributes:engine,year and methods:run(), only filling the constructor and leaving the other methods with pass.\n",
      "\n",
      "### Response:\n",
      " class Car:\n",
      "    def __init__(self, engine, year):\n",
      "        self.engine = engine\n",
      "        self.year = year\n",
      "    \n",
      "    def run(self):\n",
      "        pass\n"
     ]
    }
   ]
  },
  {
   "cell_type": "code",
   "execution_count": 5,
   "outputs": [
    {
     "name": "stdout",
     "output_type": "stream",
     "text": [
      " class Car:\n",
      "    def __init__(self, engine, year):\n",
      "        self.engine = engine\n",
      "        self.year = year\n",
      "    \n",
      "    def run(self):\n",
      "        pass\n"
     ]
    }
   ],
   "source": [
    "generated_code = pipe(prompt_template)[0]['generated_text'].split('Response:\\n')[-1]\n",
    "print(generated_code)"
   ],
   "metadata": {
    "collapsed": false,
    "ExecuteTime": {
     "end_time": "2024-02-02T09:51:33.891287900Z",
     "start_time": "2024-02-02T09:50:57.772980600Z"
    }
   }
  },
  {
   "cell_type": "code",
   "execution_count": 6,
   "outputs": [],
   "source": [
    "prompt = (\n",
    "    \"Write a Python class with name:Weatherforecast, attributes: location,date,conditions and methods: getForecastForDate(requestedDate: Date),updateForecast(updatedConditions: String),generateReport(),only filling the constructor and leaving the other methods with pass.\"\n",
    "    \"Write a Python class with name:WeatherStation, attributes: name,location,temperature and methods: measureWindSpeed(),recordHumidity(),forecastWeather(),only filling the constructor and leaving the other methods with pass.\")"
   ],
   "metadata": {
    "collapsed": false,
    "ExecuteTime": {
     "end_time": "2024-02-02T09:51:33.909287600Z",
     "start_time": "2024-02-02T09:51:33.892283600Z"
    }
   }
  },
  {
   "cell_type": "code",
   "execution_count": 7,
   "outputs": [],
   "source": [
    "prompt_template=f'''Below is an instruction that describes a task to create Python classes. Generate 1 or more classes to fulfill the request.\n",
    "\n",
    "### Instruction:\n",
    "{prompt}\n",
    "\n",
    "### Response:\n",
    "'''"
   ],
   "metadata": {
    "collapsed": false,
    "ExecuteTime": {
     "end_time": "2024-02-02T09:51:33.939288200Z",
     "start_time": "2024-02-02T09:51:33.924283600Z"
    }
   }
  },
  {
   "cell_type": "code",
   "execution_count": 8,
   "outputs": [
    {
     "name": "stdout",
     "output_type": "stream",
     "text": [
      "Below is an instruction that describes a task to create Python classes. Generate 1 or more classes to fulfill the request.\n",
      "\n",
      "### Instruction:\n",
      "Write a Python class with name:Weatherforecast, attributes: location,date,conditions and methods: getForecastForDate(requestedDate: Date),updateForecast(updatedConditions: String),generateReport(),only filling the constructor and leaving the other methods with pass.Write a Python class with name:WeatherStation, attributes: name,location,temperature and methods: measureWindSpeed(),recordHumidity(),forecastWeather(),only filling the constructor and leaving the other methods with pass.\n",
      "\n",
      "### Response:\n",
      " ```python\n",
      "from datetime import date\n",
      "\n",
      "class Weatherforecast:\n",
      "    def __init__(self, location, date, conditions):\n",
      "        self.location = location\n",
      "        self.date = date\n",
      "        self.conditions = conditions\n",
      "\n",
      "    def getForecastForDate(self, requestedDate):\n",
      "        pass\n",
      "\n",
      "    def updateForecast(self, updatedConditions):\n",
      "        pass\n",
      "\n",
      "    def generateReport(self):\n",
      "        pass\n",
      "\n",
      "\n",
      "class WeatherStation:\n",
      "    def __init__(self, name, location):\n",
      "        self.name = name\n",
      "        self.location = location\n",
      "        self.temperature = 0\n",
      "\n",
      "    def measureWindSpeed(self):\n",
      "        pass\n",
      "\n",
      "    def recordHumidity(self):\n",
      "        pass\n",
      "\n",
      "    def forecastWeather(self):\n",
      "        pass\n",
      "```\n"
     ]
    }
   ],
   "source": [
    "print(pipe(prompt_template)[0]['generated_text'])"
   ],
   "metadata": {
    "collapsed": false,
    "ExecuteTime": {
     "end_time": "2024-02-02T09:54:17.541985200Z",
     "start_time": "2024-02-02T09:51:33.939288200Z"
    }
   }
  }
 ]
}
